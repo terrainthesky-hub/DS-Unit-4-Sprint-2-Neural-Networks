{
  "nbformat": 4,
  "nbformat_minor": 0,
  "metadata": {
    "colab": {
      "name": "LS_DS_432_TensorFlow_Assignment.ipynb",
      "provenance": [],
      "collapsed_sections": [
        "s-Tc3ovEyQ9b"
      ],
      "include_colab_link": true
    },
    "kernelspec": {
      "name": "python3",
      "display_name": "Python 3"
    },
    "accelerator": "GPU"
  },
  "cells": [
    {
      "cell_type": "markdown",
      "metadata": {
        "id": "view-in-github",
        "colab_type": "text"
      },
      "source": [
        "<a href=\"https://colab.research.google.com/github/terrainthesky-hub/DS-Unit-4-Sprint-2-Neural-Networks/blob/main/module2-backpropagation/Lesley_RichLS_DS_432_TensorFlow_Assignment.ipynb\" target=\"_parent\"><img src=\"https://colab.research.google.com/assets/colab-badge.svg\" alt=\"Open In Colab\"/></a>"
      ]
    },
    {
      "cell_type": "markdown",
      "metadata": {
        "id": "ObyHCH8HvHSf",
        "colab_type": "text"
      },
      "source": [
        "<img align=\"left\" src=\"https://lever-client-logos.s3.amazonaws.com/864372b1-534c-480e-acd5-9711f850815c-1524247202159.png\" width=200>\n",
        "<br></br>\n",
        "<br></br>\n",
        "\n",
        "# *Data Science Unit 4 Sprint 2 Assignment 2*\n",
        "\n",
        "Use TensorFlow Keras & a sample of the [Quickdraw dataset](https://github.com/googlecreativelab/quickdraw-dataset) to build a sketch classification model. The dataset has been sampled to only 10 classes and 10000 observations per class. Please build a baseline classification model then run a few experiments with different optimizers and learning rates. \n",
        "\n",
        "*Don't forgot to switch to GPU on Colab!*"
      ]
    },
    {
      "cell_type": "markdown",
      "metadata": {
        "id": "s-Tc3ovEyQ9b",
        "colab_type": "text"
      },
      "source": [
        "## Load Your Data"
      ]
    },
    {
      "cell_type": "code",
      "metadata": {
        "id": "CkU0pAYCvU8o",
        "colab_type": "code",
        "colab": {
          "base_uri": "https://localhost:8080/",
          "height": 51
        },
        "outputId": "8dab45c9-745d-42b9-9e28-498201974a7e"
      },
      "source": [
        "import os\n",
        "import numpy as np\n",
        "data = np.load('./sample_data/quickdraw10.npz')\n",
        "X = data['arr_0']\n",
        "y = data['arr_1']\n",
        "\n",
        "print(X.shape)\n",
        "print(y.shape)"
      ],
      "execution_count": 21,
      "outputs": [
        {
          "output_type": "stream",
          "text": [
            "(100000, 784)\n",
            "(100000,)\n"
          ],
          "name": "stdout"
        }
      ]
    },
    {
      "cell_type": "code",
      "metadata": {
        "id": "XuYLnTOG702Y",
        "colab_type": "code",
        "colab": {
          "base_uri": "https://localhost:8080/",
          "height": 34
        },
        "outputId": "306b84bc-d676-401c-e613-003fa4008146"
      },
      "source": [
        "data.files\n",
        "#last % of dataset .2\n",
        "#"
      ],
      "execution_count": 18,
      "outputs": [
        {
          "output_type": "execute_result",
          "data": {
            "text/plain": [
              "['arr_0', 'arr_1']"
            ]
          },
          "metadata": {
            "tags": []
          },
          "execution_count": 18
        }
      ]
    },
    {
      "cell_type": "code",
      "metadata": {
        "id": "c8qsDqdqvHDd",
        "colab_type": "code",
        "colab": {}
      },
      "source": [
        "class_names = ['apple',\n",
        " 'anvil',\n",
        " 'airplane',\n",
        " 'banana',\n",
        " 'The Eiffel Tower',\n",
        " 'The Mona Lisa',\n",
        " 'The Great Wall of China',\n",
        " 'alarm clock',\n",
        " 'ant',\n",
        " 'asparagus']"
      ],
      "execution_count": 22,
      "outputs": []
    },
    {
      "cell_type": "code",
      "metadata": {
        "id": "Owbm1EbxvA5A",
        "colab_type": "code",
        "colab": {
          "base_uri": "https://localhost:8080/",
          "height": 408
        },
        "outputId": "97babc62-56c2-404e-fd7c-3aa040ccd7b4"
      },
      "source": [
        "import matplotlib.pyplot as plt\n",
        "plt.figure(figsize=(10,5))\n",
        "start = 0\n",
        "\n",
        "for num, name in enumerate(class_names):\n",
        "    plt.subplot(2,5, num+1)\n",
        "    plt.xticks([])\n",
        "    plt.yticks([])\n",
        "    plt.grid(False)\n",
        "    plt.imshow(X[start].reshape(28,28), cmap=plt.cm.binary)\n",
        "    plt.xlabel(name)\n",
        "    start += 10000\n",
        "plt.show()"
      ],
      "execution_count": 23,
      "outputs": [
        {
          "output_type": "stream",
          "text": [
            "Exception ignored in: <bound method NpzFile.__del__ of <numpy.lib.npyio.NpzFile object at 0x7f33b5b4aef0>>\n",
            "Traceback (most recent call last):\n",
            "  File \"/usr/local/lib/python3.6/dist-packages/numpy/lib/npyio.py\", line 230, in __del__\n",
            "    self.close()\n",
            "  File \"/usr/local/lib/python3.6/dist-packages/numpy/lib/npyio.py\", line 221, in close\n",
            "    if self.zip is not None:\n",
            "AttributeError: 'NpzFile' object has no attribute 'zip'\n"
          ],
          "name": "stderr"
        },
        {
          "output_type": "display_data",
          "data": {
            "image/png": "[encoded data removed]",
            "text/plain": [
              "<Figure size 720x360 with 10 Axes>"
            ]
          },
          "metadata": {
            "tags": []
          }
        }
      ]
    },
    {
      "cell_type": "markdown",
      "metadata": {
        "id": "jb70CbLVyK65",
        "colab_type": "text"
      },
      "source": [
        "## Build Your Baseline Model\n",
        "Some Hints:\n",
        "\n",
        "\n",
        "*  Model should have 784 input values (like mnist)\n",
        "*  Use `sparse_categorical_crossentropy` as your loss function.\n",
        "* You need 10 neurons in your last layer for output\n",
        "* You can add as many hidden layers with as many neurons in them as you like. \n",
        "* The default batchsize should be fine for this exercise.\n",
        "* Limit your model epochs to 30 each time you fit.\n",
        "\n"
      ]
    },
    {
      "cell_type": "code",
      "metadata": {
        "id": "zHWblzsMyNkU",
        "colab_type": "code",
        "colab": {}
      },
      "source": [
        "from sklearn.utils import shuffle\n",
        "from tensorflow.keras.layers import Dense\n",
        "from tensorflow.keras.optimizers import SGD\n",
        "from tensorflow.keras.models import Sequential\n",
        "\n",
        "X, y = shuffle(X, y)\n"
      ],
      "execution_count": 24,
      "outputs": []
    },
    {
      "cell_type": "code",
      "metadata": {
        "id": "ItjhWDSE_FfR",
        "colab_type": "code",
        "colab": {
          "base_uri": "https://localhost:8080/",
          "height": 1000
        },
        "outputId": "be3b08a8-03d2-4600-be29-16b2b744ddcc"
      },
      "source": [
        "sgd = SGD(learning_rate=0.01)\n",
        "\n",
        "model = Sequential([\n",
        "                    Dense(5, activation='sigmoid', input_dim=784),\n",
        "                    Dense(5, activation='sigmoid'),\n",
        "                    Dense(5, activation='sigmoid'),\n",
        "                    Dense(10, activation='softmax')\n",
        "])\n",
        "\n",
        "model.compile(optimizer=sgd, loss='sparse_categorical_crossentropy', metrics=['accuracy'])\n",
        "\n",
        "sgd_default = model.fit(X,y, epochs=30, validation_split=.2, shuffle=True)"
      ],
      "execution_count": 25,
      "outputs": [
        {
          "output_type": "stream",
          "text": [
            "Epoch 1/30\n",
            "2500/2500 [==============================] - 7s 3ms/step - loss: 2.2866 - accuracy: 0.1525 - val_loss: 2.2665 - val_accuracy: 0.2499\n",
            "Epoch 2/30\n",
            "2500/2500 [==============================] - 7s 3ms/step - loss: 2.2339 - accuracy: 0.2077 - val_loss: 2.1896 - val_accuracy: 0.2375\n",
            "Epoch 3/30\n",
            "2500/2500 [==============================] - 7s 3ms/step - loss: 2.1240 - accuracy: 0.2186 - val_loss: 2.0601 - val_accuracy: 0.1978\n",
            "Epoch 4/30\n",
            "2500/2500 [==============================] - 7s 3ms/step - loss: 2.0160 - accuracy: 0.2107 - val_loss: 1.9807 - val_accuracy: 0.2008\n",
            "Epoch 5/30\n",
            "2500/2500 [==============================] - 7s 3ms/step - loss: 1.9587 - accuracy: 0.2292 - val_loss: 1.9496 - val_accuracy: 0.2211\n",
            "Epoch 6/30\n",
            "2500/2500 [==============================] - 7s 3ms/step - loss: 1.9598 - accuracy: 0.2612 - val_loss: 1.9506 - val_accuracy: 0.2675\n",
            "Epoch 7/30\n",
            "2500/2500 [==============================] - 7s 3ms/step - loss: 1.9324 - accuracy: 0.2749 - val_loss: 1.9215 - val_accuracy: 0.2860\n",
            "Epoch 8/30\n",
            "2500/2500 [==============================] - 7s 3ms/step - loss: 1.8981 - accuracy: 0.3268 - val_loss: 1.8879 - val_accuracy: 0.3448\n",
            "Epoch 9/30\n",
            "2500/2500 [==============================] - 7s 3ms/step - loss: 1.8757 - accuracy: 0.3247 - val_loss: 1.8677 - val_accuracy: 0.3411\n",
            "Epoch 10/30\n",
            "2500/2500 [==============================] - 7s 3ms/step - loss: 1.8236 - accuracy: 0.3645 - val_loss: 1.7928 - val_accuracy: 0.3814\n",
            "Epoch 11/30\n",
            "2500/2500 [==============================] - 8s 3ms/step - loss: 1.7590 - accuracy: 0.4046 - val_loss: 1.7200 - val_accuracy: 0.4512\n",
            "Epoch 12/30\n",
            "2500/2500 [==============================] - 8s 3ms/step - loss: 1.6863 - accuracy: 0.4126 - val_loss: 1.6664 - val_accuracy: 0.4027\n",
            "Epoch 13/30\n",
            "2500/2500 [==============================] - 7s 3ms/step - loss: 1.6347 - accuracy: 0.4419 - val_loss: 1.6099 - val_accuracy: 0.4618\n",
            "Epoch 14/30\n",
            "2500/2500 [==============================] - 7s 3ms/step - loss: 1.5959 - accuracy: 0.4588 - val_loss: 1.6012 - val_accuracy: 0.4467\n",
            "Epoch 15/30\n",
            "2500/2500 [==============================] - 7s 3ms/step - loss: 1.5689 - accuracy: 0.4480 - val_loss: 1.5594 - val_accuracy: 0.4639\n",
            "Epoch 16/30\n",
            "2500/2500 [==============================] - 7s 3ms/step - loss: 1.5432 - accuracy: 0.4691 - val_loss: 1.5980 - val_accuracy: 0.4475\n",
            "Epoch 17/30\n",
            "2500/2500 [==============================] - 7s 3ms/step - loss: 1.5344 - accuracy: 0.4655 - val_loss: 1.5188 - val_accuracy: 0.4694\n",
            "Epoch 18/30\n",
            "2500/2500 [==============================] - 7s 3ms/step - loss: 1.5525 - accuracy: 0.4638 - val_loss: 1.5570 - val_accuracy: 0.4611\n",
            "Epoch 19/30\n",
            "2500/2500 [==============================] - 7s 3ms/step - loss: 1.5295 - accuracy: 0.4763 - val_loss: 1.5219 - val_accuracy: 0.4728\n",
            "Epoch 20/30\n",
            "2500/2500 [==============================] - 7s 3ms/step - loss: 1.5012 - accuracy: 0.4851 - val_loss: 1.5239 - val_accuracy: 0.4647\n",
            "Epoch 21/30\n",
            "2500/2500 [==============================] - 7s 3ms/step - loss: 1.4950 - accuracy: 0.4889 - val_loss: 1.5970 - val_accuracy: 0.4657\n",
            "Epoch 22/30\n",
            "2500/2500 [==============================] - 7s 3ms/step - loss: 1.5062 - accuracy: 0.4834 - val_loss: 1.4833 - val_accuracy: 0.4943\n",
            "Epoch 23/30\n",
            "2500/2500 [==============================] - 7s 3ms/step - loss: 1.4734 - accuracy: 0.4909 - val_loss: 1.4689 - val_accuracy: 0.4843\n",
            "Epoch 24/30\n",
            "2500/2500 [==============================] - 8s 3ms/step - loss: 1.4759 - accuracy: 0.4968 - val_loss: 1.4654 - val_accuracy: 0.5058\n",
            "Epoch 25/30\n",
            "2500/2500 [==============================] - 7s 3ms/step - loss: 1.4640 - accuracy: 0.4958 - val_loss: 1.4739 - val_accuracy: 0.4742\n",
            "Epoch 26/30\n",
            "2500/2500 [==============================] - 7s 3ms/step - loss: 1.4549 - accuracy: 0.4873 - val_loss: 1.4666 - val_accuracy: 0.4854\n",
            "Epoch 27/30\n",
            "2500/2500 [==============================] - 7s 3ms/step - loss: 1.4536 - accuracy: 0.4889 - val_loss: 1.4546 - val_accuracy: 0.4794\n",
            "Epoch 28/30\n",
            "2500/2500 [==============================] - 7s 3ms/step - loss: 1.4426 - accuracy: 0.4903 - val_loss: 1.4513 - val_accuracy: 0.4951\n",
            "Epoch 29/30\n",
            "2500/2500 [==============================] - 7s 3ms/step - loss: 1.4504 - accuracy: 0.4854 - val_loss: 1.4701 - val_accuracy: 0.4903\n",
            "Epoch 30/30\n",
            "2500/2500 [==============================] - 7s 3ms/step - loss: 1.4450 - accuracy: 0.4968 - val_loss: 1.4629 - val_accuracy: 0.4697\n"
          ],
          "name": "stdout"
        },
        {
          "output_type": "execute_result",
          "data": {
            "text/plain": [
              "<tensorflow.python.keras.callbacks.History at 0x7f3310187630>"
            ]
          },
          "metadata": {
            "tags": []
          },
          "execution_count": 25
        }
      ]
    },
    {
      "cell_type": "markdown",
      "metadata": {
        "id": "MAhBrcE4yOZe",
        "colab_type": "text"
      },
      "source": [
        "## Change Optimizers\n",
        "Try using the keras `adam` optimizer instead of `sgd` in your model. Visualize the difference in validation loss between the models with different optimizers. "
      ]
    },
    {
      "cell_type": "code",
      "metadata": {
        "id": "jIW_spOZ0cxy",
        "colab_type": "code",
        "colab": {
          "base_uri": "https://localhost:8080/",
          "height": 1000
        },
        "outputId": "a9477126-5766-4ef4-ae98-a9290c946f74"
      },
      "source": [
        "\n",
        "\n",
        "\n",
        "sgd = SGD(learning_rate=0.01)\n",
        "\n",
        "model = Sequential([\n",
        "                    Dense(5, activation='sigmoid', input_dim=784),\n",
        "                    Dense(5, activation='sigmoid'),\n",
        "                    Dense(5, activation='sigmoid'),\n",
        "                    Dense(10, activation='softmax')\n",
        "])\n",
        "\n",
        "model.compile(optimizer='adam', loss='sparse_categorical_crossentropy', metrics=['accuracy'])\n",
        "\n",
        "adam_default = model.fit(X,y, epochs=30, validation_split=.2, shuffle=True)"
      ],
      "execution_count": 26,
      "outputs": [
        {
          "output_type": "stream",
          "text": [
            "Epoch 1/30\n",
            "2500/2500 [==============================] - 8s 3ms/step - loss: 2.0763 - accuracy: 0.2830 - val_loss: 1.7759 - val_accuracy: 0.3586\n",
            "Epoch 2/30\n",
            "2500/2500 [==============================] - 8s 3ms/step - loss: 1.6933 - accuracy: 0.3738 - val_loss: 1.6654 - val_accuracy: 0.3713\n",
            "Epoch 3/30\n",
            "2500/2500 [==============================] - 8s 3ms/step - loss: 1.6145 - accuracy: 0.3997 - val_loss: 1.5898 - val_accuracy: 0.4117\n",
            "Epoch 4/30\n",
            "2500/2500 [==============================] - 9s 3ms/step - loss: 1.5721 - accuracy: 0.4255 - val_loss: 1.5657 - val_accuracy: 0.4288\n",
            "Epoch 5/30\n",
            "2500/2500 [==============================] - 8s 3ms/step - loss: 1.5624 - accuracy: 0.4308 - val_loss: 1.5666 - val_accuracy: 0.4062\n",
            "Epoch 6/30\n",
            "2500/2500 [==============================] - 8s 3ms/step - loss: 1.5270 - accuracy: 0.4394 - val_loss: 1.5178 - val_accuracy: 0.4214\n",
            "Epoch 7/30\n",
            "2500/2500 [==============================] - 8s 3ms/step - loss: 1.4921 - accuracy: 0.4584 - val_loss: 1.5375 - val_accuracy: 0.4439\n",
            "Epoch 8/30\n",
            "2500/2500 [==============================] - 8s 3ms/step - loss: 1.4886 - accuracy: 0.4623 - val_loss: 1.4710 - val_accuracy: 0.4552\n",
            "Epoch 9/30\n",
            "2500/2500 [==============================] - 8s 3ms/step - loss: 1.4617 - accuracy: 0.4608 - val_loss: 1.4578 - val_accuracy: 0.4525\n",
            "Epoch 10/30\n",
            "2500/2500 [==============================] - 8s 3ms/step - loss: 1.4656 - accuracy: 0.4518 - val_loss: 1.4694 - val_accuracy: 0.4568\n",
            "Epoch 11/30\n",
            "2500/2500 [==============================] - 8s 3ms/step - loss: 1.4588 - accuracy: 0.4683 - val_loss: 1.4716 - val_accuracy: 0.4773\n",
            "Epoch 12/30\n",
            "2500/2500 [==============================] - 8s 3ms/step - loss: 1.4257 - accuracy: 0.5047 - val_loss: 1.4347 - val_accuracy: 0.4928\n",
            "Epoch 13/30\n",
            "2500/2500 [==============================] - 8s 3ms/step - loss: 1.4024 - accuracy: 0.5135 - val_loss: 1.4107 - val_accuracy: 0.5066\n",
            "Epoch 14/30\n",
            "2500/2500 [==============================] - 8s 3ms/step - loss: 1.3922 - accuracy: 0.5131 - val_loss: 1.4195 - val_accuracy: 0.4864\n",
            "Epoch 15/30\n",
            "2500/2500 [==============================] - 8s 3ms/step - loss: 1.3761 - accuracy: 0.5208 - val_loss: 1.3862 - val_accuracy: 0.5145\n",
            "Epoch 16/30\n",
            "2500/2500 [==============================] - 8s 3ms/step - loss: 1.3778 - accuracy: 0.5129 - val_loss: 1.4472 - val_accuracy: 0.4773\n",
            "Epoch 17/30\n",
            "2500/2500 [==============================] - 8s 3ms/step - loss: 1.3783 - accuracy: 0.5066 - val_loss: 1.3600 - val_accuracy: 0.5218\n",
            "Epoch 18/30\n",
            "2500/2500 [==============================] - 8s 3ms/step - loss: 1.3649 - accuracy: 0.5243 - val_loss: 1.3540 - val_accuracy: 0.5258\n",
            "Epoch 19/30\n",
            "2500/2500 [==============================] - 8s 3ms/step - loss: 1.3509 - accuracy: 0.5254 - val_loss: 1.3611 - val_accuracy: 0.5286\n",
            "Epoch 20/30\n",
            "2500/2500 [==============================] - 8s 3ms/step - loss: 1.3459 - accuracy: 0.5331 - val_loss: 1.3410 - val_accuracy: 0.5465\n",
            "Epoch 21/30\n",
            "2500/2500 [==============================] - 8s 3ms/step - loss: 1.3393 - accuracy: 0.5277 - val_loss: 1.3435 - val_accuracy: 0.5254\n",
            "Epoch 22/30\n",
            "2500/2500 [==============================] - 8s 3ms/step - loss: 1.3264 - accuracy: 0.5356 - val_loss: 1.3264 - val_accuracy: 0.5488\n",
            "Epoch 23/30\n",
            "2500/2500 [==============================] - 8s 3ms/step - loss: 1.3347 - accuracy: 0.5303 - val_loss: 1.3734 - val_accuracy: 0.5195\n",
            "Epoch 24/30\n",
            "2500/2500 [==============================] - 8s 3ms/step - loss: 1.3410 - accuracy: 0.5328 - val_loss: 1.3471 - val_accuracy: 0.5213\n",
            "Epoch 25/30\n",
            "2500/2500 [==============================] - 8s 3ms/step - loss: 1.3221 - accuracy: 0.5406 - val_loss: 1.3580 - val_accuracy: 0.5335\n",
            "Epoch 26/30\n",
            "2500/2500 [==============================] - 8s 3ms/step - loss: 1.3320 - accuracy: 0.5483 - val_loss: 1.3283 - val_accuracy: 0.5511\n",
            "Epoch 27/30\n",
            "2500/2500 [==============================] - 8s 3ms/step - loss: 1.3253 - accuracy: 0.5449 - val_loss: 1.3617 - val_accuracy: 0.5217\n",
            "Epoch 28/30\n",
            "2500/2500 [==============================] - 8s 3ms/step - loss: 1.3100 - accuracy: 0.5523 - val_loss: 1.3228 - val_accuracy: 0.5498\n",
            "Epoch 29/30\n",
            "2500/2500 [==============================] - 8s 3ms/step - loss: 1.3034 - accuracy: 0.5560 - val_loss: 1.3135 - val_accuracy: 0.5598\n",
            "Epoch 30/30\n",
            "2500/2500 [==============================] - 8s 3ms/step - loss: 1.2946 - accuracy: 0.5628 - val_loss: 1.3302 - val_accuracy: 0.5606\n"
          ],
          "name": "stdout"
        }
      ]
    },
    {
      "cell_type": "markdown",
      "metadata": {
        "id": "ZgZvcEyu0dWb",
        "colab_type": "text"
      },
      "source": [
        "## Optimize Learning Rate\n",
        "Using the optimizer your picked in the previous step, begin tuning the learning rate within that optimizer. Try manually choosing 3-5 learning rate.values. \n"
      ]
    },
    {
      "cell_type": "code",
      "metadata": {
        "id": "aUQHcjHU1KLf",
        "colab_type": "code",
        "colab": {
          "base_uri": "https://localhost:8080/",
          "height": 1000
        },
        "outputId": "879569cf-f527-4d76-8c92-04bfe3e33daf"
      },
      "source": [
        "from tensorflow import keras\n",
        "\n",
        "opt = keras.optimizers.Adam(learning_rate=0.001)\n",
        "\n",
        "model = Sequential([\n",
        "                    Dense(10, activation='sigmoid', input_dim=784),\n",
        "                    Dense(10, activation='sigmoid'),\n",
        "                    Dense(10, activation='sigmoid'),\n",
        "                    Dense(10, activation='sigmoid'),\n",
        "                    Dense(10, activation='softmax')\n",
        "])\n",
        "\n",
        "model.compile(optimizer=opt, loss='sparse_categorical_crossentropy', metrics=['accuracy'])\n",
        "\n",
        "adam_low = model.fit(X,y, epochs=30, validation_split=.2, shuffle=True)"
      ],
      "execution_count": 40,
      "outputs": [
        {
          "output_type": "stream",
          "text": [
            "Epoch 1/30\n",
            "2500/2500 [==============================] - 8s 3ms/step - loss: 2.0627 - accuracy: 0.2107 - val_loss: 1.9035 - val_accuracy: 0.3141\n",
            "Epoch 2/30\n",
            "2500/2500 [==============================] - 8s 3ms/step - loss: 1.7547 - accuracy: 0.3446 - val_loss: 1.6446 - val_accuracy: 0.3869\n",
            "Epoch 3/30\n",
            "2500/2500 [==============================] - 8s 3ms/step - loss: 1.5686 - accuracy: 0.4340 - val_loss: 1.5060 - val_accuracy: 0.4807\n",
            "Epoch 4/30\n",
            "2500/2500 [==============================] - 9s 4ms/step - loss: 1.4373 - accuracy: 0.5035 - val_loss: 1.3803 - val_accuracy: 0.5009\n",
            "Epoch 5/30\n",
            "2500/2500 [==============================] - 8s 3ms/step - loss: 1.3594 - accuracy: 0.5190 - val_loss: 1.3563 - val_accuracy: 0.5097\n",
            "Epoch 6/30\n",
            "2500/2500 [==============================] - 8s 3ms/step - loss: 1.3390 - accuracy: 0.5320 - val_loss: 1.3385 - val_accuracy: 0.5390\n",
            "Epoch 7/30\n",
            "2500/2500 [==============================] - 8s 3ms/step - loss: 1.2962 - accuracy: 0.5641 - val_loss: 1.2795 - val_accuracy: 0.5695\n",
            "Epoch 8/30\n",
            "2500/2500 [==============================] - 8s 3ms/step - loss: 1.2695 - accuracy: 0.5727 - val_loss: 1.2500 - val_accuracy: 0.5957\n",
            "Epoch 9/30\n",
            "2500/2500 [==============================] - 8s 3ms/step - loss: 1.2454 - accuracy: 0.5864 - val_loss: 1.2605 - val_accuracy: 0.5926\n",
            "Epoch 10/30\n",
            "2500/2500 [==============================] - 8s 3ms/step - loss: 1.2466 - accuracy: 0.5898 - val_loss: 1.2503 - val_accuracy: 0.5713\n",
            "Epoch 11/30\n",
            "2500/2500 [==============================] - 8s 3ms/step - loss: 1.1906 - accuracy: 0.6089 - val_loss: 1.1895 - val_accuracy: 0.6229\n",
            "Epoch 12/30\n",
            "2500/2500 [==============================] - 8s 3ms/step - loss: 1.1733 - accuracy: 0.6230 - val_loss: 1.2071 - val_accuracy: 0.6047\n",
            "Epoch 13/30\n",
            "2500/2500 [==============================] - 8s 3ms/step - loss: 1.1614 - accuracy: 0.6179 - val_loss: 1.1601 - val_accuracy: 0.6202\n",
            "Epoch 14/30\n",
            "2500/2500 [==============================] - 8s 3ms/step - loss: 1.1472 - accuracy: 0.6232 - val_loss: 1.1697 - val_accuracy: 0.6174\n",
            "Epoch 15/30\n",
            "2500/2500 [==============================] - 8s 3ms/step - loss: 1.1390 - accuracy: 0.6346 - val_loss: 1.1330 - val_accuracy: 0.6457\n",
            "Epoch 16/30\n",
            "2500/2500 [==============================] - 8s 3ms/step - loss: 1.1337 - accuracy: 0.6292 - val_loss: 1.1397 - val_accuracy: 0.6284\n",
            "Epoch 17/30\n",
            "2500/2500 [==============================] - 8s 3ms/step - loss: 1.1139 - accuracy: 0.6364 - val_loss: 1.1926 - val_accuracy: 0.6036\n",
            "Epoch 18/30\n",
            "2488/2500 [============================>.] - ETA: 0s - loss: 1.1328 - accuracy: 0.6216"
          ],
          "name": "stdout"
        },
        {
          "output_type": "stream",
          "text": [
            "Exception ignored in: <bound method NpzFile.__del__ of <numpy.lib.npyio.NpzFile object at 0x7f33b598b198>>\n",
            "Traceback (most recent call last):\n",
            "  File \"/usr/local/lib/python3.6/dist-packages/numpy/lib/npyio.py\", line 230, in __del__\n",
            "    self.close()\n",
            "  File \"/usr/local/lib/python3.6/dist-packages/numpy/lib/npyio.py\", line 221, in close\n",
            "    if self.zip is not None:\n",
            "AttributeError: 'NpzFile' object has no attribute 'zip'\n"
          ],
          "name": "stderr"
        },
        {
          "output_type": "stream",
          "text": [
            "2500/2500 [==============================] - 8s 3ms/step - loss: 1.1325 - accuracy: 0.6216 - val_loss: 1.1128 - val_accuracy: 0.6450\n",
            "Epoch 19/30\n",
            "2500/2500 [==============================] - 8s 3ms/step - loss: 1.0917 - accuracy: 0.6475 - val_loss: 1.0904 - val_accuracy: 0.6521\n",
            "Epoch 20/30\n",
            "2500/2500 [==============================] - 8s 3ms/step - loss: 1.0981 - accuracy: 0.6421 - val_loss: 1.1069 - val_accuracy: 0.6426\n",
            "Epoch 21/30\n",
            "2500/2500 [==============================] - 8s 3ms/step - loss: 1.0827 - accuracy: 0.6530 - val_loss: 1.0867 - val_accuracy: 0.6542\n",
            "Epoch 22/30\n",
            "2500/2500 [==============================] - 8s 3ms/step - loss: 1.0728 - accuracy: 0.6539 - val_loss: 1.0731 - val_accuracy: 0.6575\n",
            "Epoch 23/30\n",
            "2500/2500 [==============================] - 8s 3ms/step - loss: 1.0766 - accuracy: 0.6582 - val_loss: 1.1044 - val_accuracy: 0.6460\n",
            "Epoch 24/30\n",
            "2500/2500 [==============================] - 8s 3ms/step - loss: 1.0879 - accuracy: 0.6475 - val_loss: 1.0815 - val_accuracy: 0.6551\n",
            "Epoch 25/30\n",
            "2500/2500 [==============================] - 8s 3ms/step - loss: 1.0597 - accuracy: 0.6645 - val_loss: 1.0712 - val_accuracy: 0.6613\n",
            "Epoch 26/30\n",
            "2500/2500 [==============================] - 8s 3ms/step - loss: 1.0515 - accuracy: 0.6679 - val_loss: 1.0537 - val_accuracy: 0.6711\n",
            "Epoch 27/30\n",
            "2500/2500 [==============================] - 8s 3ms/step - loss: 1.0583 - accuracy: 0.6618 - val_loss: 1.0496 - val_accuracy: 0.6686\n",
            "Epoch 28/30\n",
            "2500/2500 [==============================] - 8s 3ms/step - loss: 1.0329 - accuracy: 0.6751 - val_loss: 1.0631 - val_accuracy: 0.6680\n",
            "Epoch 29/30\n",
            "2500/2500 [==============================] - 8s 3ms/step - loss: 1.0423 - accuracy: 0.6724 - val_loss: 1.0490 - val_accuracy: 0.6607\n",
            "Epoch 30/30\n",
            "2500/2500 [==============================] - 8s 3ms/step - loss: 1.0416 - accuracy: 0.6666 - val_loss: 1.0493 - val_accuracy: 0.6654\n"
          ],
          "name": "stdout"
        }
      ]
    },
    {
      "cell_type": "code",
      "metadata": {
        "id": "LED5NIVEDzJO",
        "colab_type": "code",
        "colab": {
          "base_uri": "https://localhost:8080/",
          "height": 1000
        },
        "outputId": "a02958ed-5802-4293-8997-c3b07e350ab1"
      },
      "source": [
        "\n",
        "opt = keras.optimizers.Adam(learning_rate=0.02)\n",
        "\n",
        "model = Sequential([\n",
        "                    Dense(5, activation='sigmoid', input_dim=784),\n",
        "                    Dense(5, activation='sigmoid'),\n",
        "                    Dense(5, activation='sigmoid'),\n",
        "                    Dense(10, activation='softmax')\n",
        "])\n",
        "\n",
        "model.compile(optimizer=opt, loss='sparse_categorical_crossentropy', metrics=['accuracy'])\n",
        "\n",
        "adam_high = model.fit(X,y, epochs=30, validation_split=.2, shuffle=True)"
      ],
      "execution_count": 30,
      "outputs": [
        {
          "output_type": "stream",
          "text": [
            "Epoch 1/30\n",
            "2500/2500 [==============================] - 8s 3ms/step - loss: 2.2309 - accuracy: 0.1314 - val_loss: 2.1777 - val_accuracy: 0.1636\n",
            "Epoch 2/30\n",
            "2500/2500 [==============================] - 8s 3ms/step - loss: 2.1375 - accuracy: 0.1711 - val_loss: 2.0678 - val_accuracy: 0.1720\n",
            "Epoch 3/30\n",
            "2500/2500 [==============================] - 8s 3ms/step - loss: 2.0850 - accuracy: 0.1834 - val_loss: 2.1367 - val_accuracy: 0.1822\n",
            "Epoch 4/30\n",
            "2500/2500 [==============================] - 8s 3ms/step - loss: 2.0972 - accuracy: 0.1847 - val_loss: 2.0844 - val_accuracy: 0.1787\n",
            "Epoch 5/30\n",
            "2500/2500 [==============================] - 8s 3ms/step - loss: 2.0455 - accuracy: 0.1840 - val_loss: 2.0545 - val_accuracy: 0.1830\n",
            "Epoch 6/30\n",
            "2500/2500 [==============================] - 8s 3ms/step - loss: 2.0391 - accuracy: 0.1838 - val_loss: 2.0343 - val_accuracy: 0.1792\n",
            "Epoch 7/30\n",
            "2500/2500 [==============================] - 8s 3ms/step - loss: 2.0417 - accuracy: 0.1834 - val_loss: 2.0412 - val_accuracy: 0.1822\n",
            "Epoch 8/30\n",
            "2500/2500 [==============================] - 8s 3ms/step - loss: 2.0395 - accuracy: 0.1839 - val_loss: 2.0468 - val_accuracy: 0.1899\n",
            "Epoch 9/30\n",
            "2500/2500 [==============================] - 8s 3ms/step - loss: 2.0377 - accuracy: 0.1808 - val_loss: 2.0275 - val_accuracy: 0.1726\n",
            "Epoch 10/30\n",
            "2500/2500 [==============================] - 8s 3ms/step - loss: 2.0240 - accuracy: 0.1763 - val_loss: 2.0220 - val_accuracy: 0.1763\n",
            "Epoch 11/30\n",
            "2500/2500 [==============================] - 8s 3ms/step - loss: 2.0164 - accuracy: 0.1863 - val_loss: 2.0342 - val_accuracy: 0.1777\n",
            "Epoch 12/30\n",
            "2500/2500 [==============================] - 8s 3ms/step - loss: 2.0228 - accuracy: 0.1814 - val_loss: 2.0748 - val_accuracy: 0.1829\n",
            "Epoch 13/30\n",
            "2500/2500 [==============================] - 8s 3ms/step - loss: 2.0690 - accuracy: 0.1855 - val_loss: 2.0615 - val_accuracy: 0.1828\n",
            "Epoch 14/30\n",
            "2500/2500 [==============================] - 8s 3ms/step - loss: 2.0346 - accuracy: 0.1853 - val_loss: 2.0181 - val_accuracy: 0.1801\n",
            "Epoch 15/30\n",
            "2500/2500 [==============================] - 8s 3ms/step - loss: 2.0097 - accuracy: 0.1844 - val_loss: 2.0119 - val_accuracy: 0.1849\n",
            "Epoch 16/30\n",
            "2500/2500 [==============================] - 8s 3ms/step - loss: 2.0067 - accuracy: 0.1841 - val_loss: 2.0076 - val_accuracy: 0.1900\n",
            "Epoch 17/30\n",
            "2500/2500 [==============================] - 8s 3ms/step - loss: 2.0052 - accuracy: 0.1847 - val_loss: 2.0083 - val_accuracy: 0.1842\n",
            "Epoch 18/30\n",
            "2500/2500 [==============================] - 8s 3ms/step - loss: 2.0049 - accuracy: 0.1857 - val_loss: 2.0099 - val_accuracy: 0.1845\n",
            "Epoch 19/30\n",
            "2500/2500 [==============================] - 8s 3ms/step - loss: 2.0045 - accuracy: 0.1866 - val_loss: 2.0099 - val_accuracy: 0.1880\n",
            "Epoch 20/30\n",
            "2500/2500 [==============================] - 8s 3ms/step - loss: 2.0047 - accuracy: 0.1864 - val_loss: 2.0047 - val_accuracy: 0.1819\n",
            "Epoch 21/30\n",
            "2500/2500 [==============================] - 8s 3ms/step - loss: 2.0029 - accuracy: 0.1854 - val_loss: 2.0143 - val_accuracy: 0.1861\n",
            "Epoch 22/30\n",
            "2500/2500 [==============================] - 8s 3ms/step - loss: 2.0248 - accuracy: 0.1763 - val_loss: 2.0361 - val_accuracy: 0.1708\n",
            "Epoch 23/30\n",
            "2500/2500 [==============================] - 8s 3ms/step - loss: 2.0296 - accuracy: 0.1753 - val_loss: 2.0277 - val_accuracy: 0.1786\n",
            "Epoch 24/30\n",
            "2500/2500 [==============================] - 8s 3ms/step - loss: 2.0647 - accuracy: 0.1705 - val_loss: 2.1191 - val_accuracy: 0.1614\n",
            "Epoch 25/30\n",
            "2500/2500 [==============================] - 8s 3ms/step - loss: 2.0718 - accuracy: 0.1706 - val_loss: 2.0641 - val_accuracy: 0.1760\n",
            "Epoch 26/30\n",
            "2500/2500 [==============================] - 8s 3ms/step - loss: 2.0623 - accuracy: 0.1689 - val_loss: 2.0566 - val_accuracy: 0.1717\n",
            "Epoch 27/30\n",
            "2500/2500 [==============================] - 8s 3ms/step - loss: 2.0346 - accuracy: 0.1746 - val_loss: 2.0172 - val_accuracy: 0.1822\n",
            "Epoch 28/30\n",
            "2500/2500 [==============================] - 8s 3ms/step - loss: 2.0142 - accuracy: 0.1850 - val_loss: 2.0368 - val_accuracy: 0.1815\n",
            "Epoch 29/30\n",
            "2500/2500 [==============================] - 7s 3ms/step - loss: 2.0620 - accuracy: 0.1872 - val_loss: 2.0790 - val_accuracy: 0.1870\n",
            "Epoch 30/30\n",
            "2500/2500 [==============================] - 8s 3ms/step - loss: 2.1016 - accuracy: 0.1834 - val_loss: 2.1053 - val_accuracy: 0.1867\n"
          ],
          "name": "stdout"
        }
      ]
    },
    {
      "cell_type": "markdown",
      "metadata": {
        "id": "tUr1Y2DN1VJ-",
        "colab_type": "text"
      },
      "source": [
        "## Save Your Best Performing Model\n",
        "\n",
        "Practice saving the weights and architecture information of your best performing model. Reference the TensorFlow API documentation [here](https://www.tensorflow.org/tutorials/keras/save_and_load#savedmodel_format)."
      ]
    },
    {
      "cell_type": "code",
      "metadata": {
        "id": "JjyJaJ9w1Tu6",
        "colab_type": "code",
        "colab": {
          "base_uri": "https://localhost:8080/",
          "height": 289
        },
        "outputId": "a79a6191-7c49-475b-88ca-da16e3c651d3"
      },
      "source": [
        "##\n",
        "model.summary()\n"
      ],
      "execution_count": 32,
      "outputs": [
        {
          "output_type": "stream",
          "text": [
            "Model: \"sequential_4\"\n",
            "_________________________________________________________________\n",
            "Layer (type)                 Output Shape              Param #   \n",
            "=================================================================\n",
            "dense_16 (Dense)             (None, 5)                 3925      \n",
            "_________________________________________________________________\n",
            "dense_17 (Dense)             (None, 5)                 30        \n",
            "_________________________________________________________________\n",
            "dense_18 (Dense)             (None, 5)                 30        \n",
            "_________________________________________________________________\n",
            "dense_19 (Dense)             (None, 10)                60        \n",
            "=================================================================\n",
            "Total params: 4,045\n",
            "Trainable params: 4,045\n",
            "Non-trainable params: 0\n",
            "_________________________________________________________________\n"
          ],
          "name": "stdout"
        }
      ]
    },
    {
      "cell_type": "code",
      "metadata": {
        "id": "jN-q5TO0Fw9R",
        "colab_type": "code",
        "colab": {
          "base_uri": "https://localhost:8080/",
          "height": 34
        },
        "outputId": "a27e8f33-593d-4396-a823-5d6cf1bf3dc5"
      },
      "source": [
        "!mkdir -p saved_model\n",
        "model.save('saved_model/adam_low_model')"
      ],
      "execution_count": 41,
      "outputs": [
        {
          "output_type": "stream",
          "text": [
            "INFO:tensorflow:Assets written to: saved_model/adam_low_model/assets\n"
          ],
          "name": "stdout"
        }
      ]
    },
    {
      "cell_type": "code",
      "metadata": {
        "id": "ZV1pScqDF6vP",
        "colab_type": "code",
        "colab": {}
      },
      "source": [
        "import tensorflow as tf\n",
        "https://www.tensorflow.org/tutorials/keras/save_and_load#savedmodel_format\n",
        "\n",
        "new_model = tf.keras.models.load_model('saved_model/adam_low_model')"
      ],
      "execution_count": 42,
      "outputs": []
    },
    {
      "cell_type": "code",
      "metadata": {
        "id": "tyuGY3RvGEFK",
        "colab_type": "code",
        "colab": {
          "base_uri": "https://localhost:8080/",
          "height": 51
        },
        "outputId": "e2914d39-61cf-4b45-ad80-47a2fbec005e"
      },
      "source": [
        "# Save the weights\n",
        "model.save_weights('./checkpoints/my_checkpoint')\n",
        "\n",
        "# Create a new model instance\n",
        "#model = create_model()\n",
        "\n",
        "# Restore the weights\n",
        "model.load_weights('./checkpoints/my_checkpoint')\n",
        "\n",
        "# Evaluate the model\n",
        "loss,acc = model.evaluate(X,  y, verbose=2)\n",
        "print(\"Restored model, accuracy: {:5.2f}%\".format(100*acc))"
      ],
      "execution_count": 43,
      "outputs": [
        {
          "output_type": "stream",
          "text": [
            "3125/3125 - 6s - loss: 1.0343 - accuracy: 0.6703\n",
            "Restored model, accuracy: 67.03%\n"
          ],
          "name": "stdout"
        }
      ]
    },
    {
      "cell_type": "code",
      "metadata": {
        "id": "G-98UwN0N82z",
        "colab_type": "code",
        "colab": {
          "base_uri": "https://localhost:8080/",
          "height": 34
        },
        "outputId": "5271cb68-63cc-4c94-ac42-6f022d9c45ab"
      },
      "source": [
        "!ls {checkpoint_dir}"
      ],
      "execution_count": 45,
      "outputs": [
        {
          "output_type": "stream",
          "text": [
            "ls: cannot access '{checkpoint_dir}': No such file or directory\n"
          ],
          "name": "stdout"
        }
      ]
    },
    {
      "cell_type": "markdown",
      "metadata": {
        "id": "EJrbh3qryi4w",
        "colab_type": "text"
      },
      "source": [
        "### Additional Written Tasks:\n",
        "In this section, you will need to search for resources: \n",
        "1. Investigate the various [loss functions](https://www.tensorflow.org/api_docs/python/tf/keras/losses). Which is best suited for the task at hand (predicting 1 / 0) and why? \n",
        "\n",
        "sparce categorical cross entropy seems like the best, we want something categorical. Entropy as I best understand it is the potential for change, so it's cross referencing that.\n",
        "\n",
        "2. What is the difference between a loss function and a metric? Why might we need both in Keras? \n",
        "\n",
        "\"The loss function is used to optimize your model. This is the function that will get minimized by the optimizer. A metric is used to judge the performance of your model.\"\n",
        "\n",
        "\n",
        "3. Investigate the various [optimizers](https://www.tensorflow.org/api_docs/python/tf/keras/optimizers). Stochastic Gradient Descent (`sgd`) is not the learning algorithm dejour anyone. Why is that? What do newer optimizers such as `adam` have to offer? \n",
        "\n",
        "\"Adam optimization is a stochastic gradient descent method that is based on adaptive estimation of first-order and second-order moments. According to the paper Adam: A Method for Stochastic Optimization. Kingma et al., 2014, the method is \"computationally efficient, has little memory requirement, invariant to diagonal rescaling of gradients, and is well suited for problems that are large in terms of data/parameters\".\n",
        "\n",
        "\"Adamax - It is a variant of Adam based on the infinity norm. Default parameters follow those provided in the paper. Adamax is sometimes superior to adam, specially in models with embeddings.\"\n",
        "\n"
      ]
    },
    {
      "cell_type": "markdown",
      "metadata": {
        "id": "Gzs4fd-RynDd",
        "colab_type": "text"
      },
      "source": [
        "## Stretch Goals: \n",
        "\n",
        "- Research convolutional neural networks and try including convolution layers in your network.\n",
        "- Pick two classes and make QuickDraw a binary classification problem, how does your model architecture change?\n",
        "- Implement Cross Validation model evaluation on your Quickdraw implementation \n",
        "\n",
        "Watch some more videos on Gradient Descent:\n",
        "- [Gradient Descent, Step-by-Step](https://www.youtube.com/watch?v=sDv4f4s2SB8)  by StatQuest w/ Josh Starmer. This will help you understand the gradient descent based optimization that happens underneath the hood of neural networks. It uses a non-neural network example, which I believe is a gentler introduction. You will hear me refer to this technique as \"vanilla\" gradient descent. \n",
        "- [Stochastic Gradient Descent, Clearly Explained!!!](https://www.youtube.com/watch?v=vMh0zPT0tLI) by StatQuest w/ Josh Starmer. This builds on the techniques in the previous video.  This technique is the one that is actually implemented inside modern 'nets. \n",
        "- [Siraj Raval the evolution of gradient descent](https://www.youtube.com/watch?v=nhqo0u1a6fw)"
      ]
    },
    {
      "cell_type": "code",
      "metadata": {
        "id": "g649u1eo1R9e",
        "colab_type": "code",
        "colab": {}
      },
      "source": [
        ""
      ],
      "execution_count": null,
      "outputs": []
    }
  ]
}